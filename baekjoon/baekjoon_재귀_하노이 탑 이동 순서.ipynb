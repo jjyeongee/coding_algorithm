{
 "cells": [
  {
   "cell_type": "code",
   "execution_count": null,
   "metadata": {},
   "outputs": [],
   "source": [
    "n = int(input())\n",
    "\n",
    "def hanoi(n, a, b, c):\n",
    "    if n == 1:\n",
    "        print(a, c)\n",
    "    else:\n",
    "        hanoi(n-1, a, c, b)\n",
    "        print(a, c)\n",
    "        hanoi(n-1, b, a, c)\n",
    "sum = 1\n",
    "for i in range(n-1):\n",
    "    sum = sum * 2 + 1\n",
    "print(sum)\n",
    "hanoi(n, 1, 2, 3)"
   ]
  },
  {
   "cell_type": "code",
   "execution_count": null,
   "metadata": {},
   "outputs": [],
   "source": []
  }
 ],
 "metadata": {
  "kernelspec": {
   "display_name": "Python 3",
   "language": "python",
   "name": "python3"
  },
  "language_info": {
   "codemirror_mode": {
    "name": "ipython",
    "version": 3
   },
   "file_extension": ".py",
   "mimetype": "text/x-python",
   "name": "python",
   "nbconvert_exporter": "python",
   "pygments_lexer": "ipython3",
   "version": "3.7.6"
  }
 },
 "nbformat": 4,
 "nbformat_minor": 4
}
