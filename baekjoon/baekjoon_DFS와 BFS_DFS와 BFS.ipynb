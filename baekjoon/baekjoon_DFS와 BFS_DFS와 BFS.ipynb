{
 "cells": [
  {
   "cell_type": "code",
   "execution_count": 6,
   "metadata": {},
   "outputs": [
    {
     "name": "stdout",
     "output_type": "stream",
     "text": [
      "1000 1 1000\n",
      "999 1000\n",
      "1000 999 \n",
      "1000 999 "
     ]
    }
   ],
   "source": [
    "N, M, V = map(int, input().split())\n",
    "matrix = [[0]*(N+1) for i in range(N+1)]\n",
    "for i in range(M):\n",
    "    a, b = map(int, input().split())\n",
    "    matrix[a][b] = matrix[b][a] = 1\n",
    "visit_list = [0]*(N+1)\n",
    "\n",
    "def dfs(V):\n",
    "    visit_list[V] = 1 # 방문한 점 1로 표시\n",
    "    print(V, end=' ')\n",
    "    for i in range(1, N+1):\n",
    "        if(visit_list[i] == 0 and matrix[V][i] == 1):\n",
    "            dfs(i)\n",
    "            \n",
    "def bfs(V):\n",
    "    queue = [V] # 들려야 할 정점 저장\n",
    "    visit_list[V] = 0 # 방문한 점 0으로 표시\n",
    "    while queue:\n",
    "        V = queue.pop(0)\n",
    "        print(V, end=' ')\n",
    "        for i in range(1, N+1):\n",
    "            if(visit_list[i] == 1 and matrix[V][i] == 1):\n",
    "                queue.append(i)\n",
    "                visit_list[i] = 0\n",
    "                \n",
    "dfs(V)\n",
    "print()\n",
    "bfs(V)"
   ]
  },
  {
   "cell_type": "code",
   "execution_count": null,
   "metadata": {},
   "outputs": [],
   "source": []
  }
 ],
 "metadata": {
  "kernelspec": {
   "display_name": "Python 3",
   "language": "python",
   "name": "python3"
  },
  "language_info": {
   "codemirror_mode": {
    "name": "ipython",
    "version": 3
   },
   "file_extension": ".py",
   "mimetype": "text/x-python",
   "name": "python",
   "nbconvert_exporter": "python",
   "pygments_lexer": "ipython3",
   "version": "3.7.6"
  }
 },
 "nbformat": 4,
 "nbformat_minor": 4
}
