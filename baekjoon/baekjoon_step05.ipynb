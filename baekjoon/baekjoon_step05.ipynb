{
 "cells": [
  {
   "cell_type": "markdown",
   "metadata": {},
   "source": [
    "### step05"
   ]
  },
  {
   "cell_type": "code",
   "execution_count": 1,
   "metadata": {},
   "outputs": [
    {
     "name": "stdout",
     "output_type": "stream",
     "text": [
      "20 50 40\n",
      "40\n"
     ]
    }
   ],
   "source": [
    "# 10817 세 수\n",
    "num = map(int, input().split())\n",
    "print(sorted(num)[1])"
   ]
  },
  {
   "cell_type": "code",
   "execution_count": 3,
   "metadata": {},
   "outputs": [
    {
     "name": "stdout",
     "output_type": "stream",
     "text": [
      "1999\n",
      "1999\n",
      "100\n",
      "189\n",
      "100\n",
      "150\n"
     ]
    }
   ],
   "source": [
    "# 5543번 상근날드\n",
    "\n",
    "# 세트메뉴 = 버거1 + 음료1 - 50원\n",
    "\n",
    "burger = []\n",
    "drink = []\n",
    "\n",
    "for i in range(3):\n",
    "    temp = int(input())\n",
    "    burger.append(temp)\n",
    "for i in range(2):\n",
    "    temp = int(input())\n",
    "    drink.append(temp)\n",
    "    \n",
    "print(min(burger) + min(drink) - 50)"
   ]
  },
  {
   "cell_type": "code",
   "execution_count": null,
   "metadata": {},
   "outputs": [],
   "source": []
  }
 ],
 "metadata": {
  "kernelspec": {
   "display_name": "Python 3",
   "language": "python",
   "name": "python3"
  },
  "language_info": {
   "codemirror_mode": {
    "name": "ipython",
    "version": 3
   },
   "file_extension": ".py",
   "mimetype": "text/x-python",
   "name": "python",
   "nbconvert_exporter": "python",
   "pygments_lexer": "ipython3",
   "version": "3.7.6"
  }
 },
 "nbformat": 4,
 "nbformat_minor": 4
}
