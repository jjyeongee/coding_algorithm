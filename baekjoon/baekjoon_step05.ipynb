{
 "cells": [
  {
   "cell_type": "markdown",
   "metadata": {},
   "source": [
    "### step05"
   ]
  },
  {
   "cell_type": "code",
   "execution_count": 11,
   "metadata": {},
   "outputs": [
    {
     "name": "stdout",
     "output_type": "stream",
     "text": [
      "10\n",
      "65\n",
      "100\n",
      "30\n",
      "95\n",
      "68\n"
     ]
    }
   ],
   "source": [
    "# 10039번 평균 점수\n",
    "score_ls = []\n",
    "\n",
    "for i in range(5):\n",
    "    score = int(input())\n",
    "    if 0<=score<=100 and score%5==0:\n",
    "        if score >= 40:\n",
    "            score_ls.append(score)\n",
    "        else:\n",
    "            score_ls.append(40)\n",
    "            \n",
    "score_mean = sum(score_ls)/len(score_ls)\n",
    "print('%.0f' %score_mean) # 소수점체크"
   ]
  },
  {
   "cell_type": "code",
   "execution_count": null,
   "metadata": {},
   "outputs": [],
   "source": [
    "total = 0\n",
    "\n",
    "for i in range(5):\n",
    "    tmp = int(input())\n",
    "\n",
    "    if tmp < 40:\n",
    "        tmp = 40\n",
    "\n",
    "    total += tmp\n",
    "\n",
    "print(total // 5)"
   ]
  },
  {
   "cell_type": "code",
   "execution_count": 1,
   "metadata": {},
   "outputs": [
    {
     "name": "stdout",
     "output_type": "stream",
     "text": [
      "20 50 40\n",
      "40\n"
     ]
    }
   ],
   "source": [
    "# 10817 세 수\n",
    "num = map(int, input().split())\n",
    "print(sorted(num)[1])"
   ]
  },
  {
   "cell_type": "code",
   "execution_count": 3,
   "metadata": {},
   "outputs": [
    {
     "name": "stdout",
     "output_type": "stream",
     "text": [
      "1999\n",
      "1999\n",
      "100\n",
      "189\n",
      "100\n",
      "150\n"
     ]
    }
   ],
   "source": [
    "# 5543번 상근날드\n",
    "\n",
    "# 세트메뉴 = 버거1 + 음료1 - 50원\n",
    "\n",
    "burger = []\n",
    "drink = []\n",
    "\n",
    "for i in range(3):\n",
    "    temp = int(input())\n",
    "    burger.append(temp)\n",
    "for i in range(2):\n",
    "    temp = int(input())\n",
    "    drink.append(temp)\n",
    "    \n",
    "print(min(burger) + min(drink) - 50)"
   ]
  },
  {
   "cell_type": "code",
   "execution_count": null,
   "metadata": {},
   "outputs": [],
   "source": []
  }
 ],
 "metadata": {
  "kernelspec": {
   "display_name": "Python 3",
   "language": "python",
   "name": "python3"
  }
 },
 "nbformat": 4,
 "nbformat_minor": 4
}
