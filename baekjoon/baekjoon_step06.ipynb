{
 "cells": [
  {
   "cell_type": "markdown",
   "metadata": {},
   "source": [
    "### step06"
   ]
  },
  {
   "cell_type": "code",
   "execution_count": 1,
   "metadata": {},
   "outputs": [
    {
     "name": "stdout",
     "output_type": "stream",
     "text": [
      "5\n",
      "20 10 35 30 7\n",
      "7 35\n"
     ]
    }
   ],
   "source": [
    "# 10818번 최소, 최대\n",
    "num = int(input())\n",
    "num_list = list(map(int, input().split()))\n",
    "print(sorted(num_list)[0], sorted(num_list)[num-1])"
   ]
  },
  {
   "cell_type": "code",
   "execution_count": 3,
   "metadata": {},
   "outputs": [
    {
     "name": "stdout",
     "output_type": "stream",
     "text": [
      "39\n",
      "40\n",
      "41\n",
      "42\n",
      "43\n",
      "44\n",
      "82\n",
      "83\n",
      "84\n",
      "85\n",
      "6\n"
     ]
    }
   ],
   "source": [
    "# 2052번 나머지\n",
    "num_list = []\n",
    "for num in range(10):\n",
    "    num = int(input())\n",
    "    num_list.append(num % 42)\n",
    "num_list = set(num_list)\n",
    "print(len(num_list))"
   ]
  },
  {
   "cell_type": "code",
   "execution_count": null,
   "metadata": {},
   "outputs": [],
   "source": []
  }
 ],
 "metadata": {
  "kernelspec": {
   "display_name": "Python 3",
   "language": "python",
   "name": "python3"
  },
  "language_info": {
   "codemirror_mode": {
    "name": "ipython",
    "version": 3
   },
   "file_extension": ".py",
   "mimetype": "text/x-python",
   "name": "python",
   "nbconvert_exporter": "python",
   "pygments_lexer": "ipython3",
   "version": "3.7.6"
  }
 },
 "nbformat": 4,
 "nbformat_minor": 4
}
