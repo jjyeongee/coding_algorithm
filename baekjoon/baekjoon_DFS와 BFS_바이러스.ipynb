{
 "cells": [
  {
   "cell_type": "code",
   "execution_count": 3,
   "metadata": {},
   "outputs": [
    {
     "name": "stdout",
     "output_type": "stream",
     "text": [
      "7\n",
      "6\n",
      "1 2\n",
      "2 3\n",
      "1 5\n",
      "5 2\n",
      "5 6\n",
      "4 7\n",
      "4\n"
     ]
    }
   ],
   "source": [
    "n = int(input())\n",
    "t = int(input())\n",
    "s = [[0] * n for i in range(n)]\n",
    "visit = [0 for i in range(n)]\n",
    "\n",
    "for i in range(t):\n",
    "    a, b = map(int, input().split())\n",
    "    s[a-1][b-1] = 1\n",
    "    s[b-1][a-1] = 1\n",
    "    \n",
    "def dfs(v):\n",
    "    visit[v] = 1\n",
    "    for i in range(n):\n",
    "        if s[v][i] == 1 and visit[i] == 0:\n",
    "            dfs(i)\n",
    "dfs(0)\n",
    "count = 0\n",
    "for i in range(1, n):\n",
    "    if visit[i] == 1:\n",
    "        count += 1\n",
    "print(count)"
   ]
  },
  {
   "cell_type": "code",
   "execution_count": 7,
   "metadata": {},
   "outputs": [
    {
     "name": "stdout",
     "output_type": "stream",
     "text": [
      "7\n",
      "6\n",
      "1 2\n",
      "2 3\n",
      "1 5\n",
      "5 2\n",
      "5 6\n",
      "4 7\n",
      "4\n"
     ]
    }
   ],
   "source": [
    "computer = int(input())\n",
    "network = int(input())\n",
    "virus_map = [[0 for _ in range(computer + 1)] for _ in range(computer + 1)]\n",
    "\n",
    "# 2차원 배열 안에 넣어주기\n",
    "for _ in range(network):\n",
    "    x, y = map(int, input().split())\n",
    "    virus_map[x][y] = 1\n",
    "    virus_map[y][x] = 1\n",
    "    \n",
    "# 1과 연결되 모든 노드 뽑기\n",
    "def bfs(virus_map, start):\n",
    "    queue = [start]\n",
    "    visited = []\n",
    "    \n",
    "    while queue:\n",
    "        tmp = queue.pop(0)\n",
    "        visited.append(tmp)\n",
    "        \n",
    "        for i in range(len(virus_map)):\n",
    "            if virus_map[tmp][i] and i not in visited and i not in queue:\n",
    "                queue.append(i)\n",
    "                \n",
    "    return len(visited) - 1\n",
    "\n",
    "# 1을 제외한 감염된 노드 수 출력\n",
    "print(bfs(virus_map, 1))"
   ]
  },
  {
   "cell_type": "code",
   "execution_count": null,
   "metadata": {},
   "outputs": [],
   "source": []
  }
 ],
 "metadata": {
  "kernelspec": {
   "display_name": "Python 3",
   "language": "python",
   "name": "python3"
  },
  "language_info": {
   "codemirror_mode": {
    "name": "ipython",
    "version": 3
   },
   "file_extension": ".py",
   "mimetype": "text/x-python",
   "name": "python",
   "nbconvert_exporter": "python",
   "pygments_lexer": "ipython3",
   "version": "3.7.6"
  }
 },
 "nbformat": 4,
 "nbformat_minor": 4
}
